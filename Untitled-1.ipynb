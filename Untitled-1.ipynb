import numpy as np
import matplotlib.pyplot as plt
from statsmodels.tsa.ar_model import AutoReg
import warnings
warnings.filterwarnings("ignore")

# 1. 生成数据 y = sin(t)
t = np.linspace(0, 6 * np.pi, 100)  # 从 0 到 6π，共 100 个点
y_true = np.sin(t)

# 2. 构建 AR(2) 模型（使用 statsmodels）
# 注意：AR 模型需要至少 p+1 个观测值才能估计 p 阶模型
# 我们用前 90 个点训练，后 10 个点用于测试
n_train = 90
y_train = y_true[:n_train]
y_test = y_true[n_train:]

# 使用 AutoReg 拟合 AR(2) 模型
model = AutoReg(y_train, lags=2, trend='c')  # 包含常数项，但也可以去掉
results = model.fit()

print("AR(2) 模型参数:")
print(f"常数项 (intercept): {results.params[0]:.4f}")
print(f"a1 (系数 of lag1): {results.params[1]:.4f}")
print(f"a2 (系数 of lag2): {results.params[2]:.4f}")

# 输出模型摘要信息，便于诊断
print("\n模型摘要:")
print(results.summary())

# 3. 预测
# 使用模型预测测试集
pred = results.predict(start=n_train - 1, end=n_train + len(y_test) - 1, dynamic=True)

# 4. 绘图
plt.figure(figsize=(12, 6))

# 真实值
plt.plot(t, y_true, label="真实值: sin(t)", color='blue', linewidth=2)

# 训练集拟合值
# AR(2)模型的fittedvalues比原始数据少2个点（因为需要2个滞后值），所以x轴数据需要相应调整
plt.plot(t[2:n_train], results.fittedvalues, label="训练集拟合", color='green', alpha=0.7)

# 测试集预测值
plt.plot(t[n_train:], pred, label="预测值 (AR(2))", color='red', linestyle='--', linewidth=2)

plt.title("时间序列建模：sin(t) 的 AR(2) 模型预测")
plt.xlabel("时间 t")
plt.ylabel("y(t)")
plt.legend()
plt.grid(True)
plt.tight_layout()
plt.show()

# 添加残差分析图
residuals = y_train[2:] - results.fittedvalues  # 残差计算也要对应调整
plt.figure(figsize=(12, 4))
plt.subplot(1, 2, 1)
plt.plot(residuals)
plt.title("残差图")
plt.xlabel("时间")
plt.ylabel("残差")

plt.subplot(1, 2, 2)
plt.hist(residuals, bins=10, edgecolor='black')
plt.title("残差直方图")
plt.xlabel("残差值")
plt.ylabel("频次")
plt.tight_layout()
plt.show()